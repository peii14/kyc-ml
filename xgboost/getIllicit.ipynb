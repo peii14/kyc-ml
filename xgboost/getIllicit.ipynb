{
 "cells": [
  {
   "cell_type": "code",
   "execution_count": 1,
   "metadata": {},
   "outputs": [],
   "source": [
    "import datetime\n",
    "import json\n",
    "import requests\n",
    "import numpy as np\n",
    "from web3 import Web3"
   ]
  },
  {
   "cell_type": "code",
   "execution_count": null,
   "metadata": {},
   "outputs": [],
   "source": [
    "response = requests.get(\"http://localhost:8080/api/scams\")\n",
    "if response.status_code == 200:\n",
    "    response = response.json()\n",
    "else:\n",
    "    print('reject')"
   ]
  },
  {
   "cell_type": "code",
   "execution_count": null,
   "metadata": {},
   "outputs": [],
   "source": [
    "no_of_scams = len(response['result'])\n",
    "scam_id, scam_name, scam_status, scam_category, addresses= ([] for i in range(5))"
   ]
  },
  {
   "cell_type": "code",
   "execution_count": null,
   "metadata": {},
   "outputs": [],
   "source": [
    "for scam in range(no_of_scams):\n",
    "    if 'addresses' in response['result'][scam]:\n",
    "        for i in response['result'][scam]['addresses']:\n",
    "            if i[:2] != '0x':\n",
    "                continue\n",
    "            addresses.append(i)\n",
    "            scam_id.append(response['result'][scam]['id'])\n",
    "            scam_name.append(response['result'][scam]['name'])\n",
    "            scam_status.append(response['result'][scam]['status'])\n",
    "            if 'category' in response['result'][scam]:\n",
    "                scam_category.append(response['result'][scam]['category'])\n",
    "            else:\n",
    "                scam_category.append('Null')"
   ]
  },
  {
   "cell_type": "code",
   "execution_count": null,
   "metadata": {},
   "outputs": [],
   "source": [
    "len(np.unique(addresses))\n"
   ]
  },
  {
   "cell_type": "code",
   "execution_count": null,
   "metadata": {},
   "outputs": [],
   "source": [
    "print(\"file number of illicit accounts: \", len(addresses))\n",
    "print(\"Unique illicit accounts: \", len(np.unique(addresses)))\n",
    "\n",
    "address_darklist = json.loads(open('C:/Users/luter/Documents/Github/Ethereum_Fraud_Detection/Illicit_Accounts/illegal_lists/addresses-darklist.json').read())\n",
    "addresses_2 = []\n",
    "\n",
    "for item in address_darklist:\n",
    "    addresses_2.append(item['address'])\n",
    "print(\"Number of illegal addresses: \", len(address_darklist))\n",
    "print(\"Number of unique illegal addresses in JSON file: \", len(np.unique(addresses_2)))\n",
    "\n",
    "all_addresses = []\n",
    "all_addresses = np.concatenate((addresses, addresses_2), axis=None)\n",
    "all_addresses = np.unique(np.char.lower(all_addresses))\n",
    "print(\"Final number of unique Addresses: \", len(np.unique(all_addresses)))\n"
   ]
  },
  {
   "cell_type": "code",
   "execution_count": null,
   "metadata": {},
   "outputs": [],
   "source": [
    "def get_additional_scam_websites():\n",
    "    url_darklist = json.loads(open('C:/Users/luter/Documents/Github/Ethereum_Fraud_Detection/Illicit_Accounts/illegal_lists/urls-darklist.json', encoding=\"utf8\").read())\n",
    "    print(\"Number of illegal addresses: \", len(url_darklist))\n",
    "    url, comments = ([] for i in range(2))\n",
    "    for item in url_darklist:\n",
    "        url.append(item['id'])\n",
    "        comments.append(item['comment'])\n",
    "    print(url[0], \" \", comments[0])"
   ]
  },
  {
   "cell_type": "code",
   "execution_count": null,
   "metadata": {},
   "outputs": [],
   "source": [
    "def get_Last_Ether_Price_Supply():\n",
    "    from etherscan.stats import Stats\n",
    "    with open(\"Illicit_Accounts/api_key.json\", mode='r') as key_file:\n",
    "        key = json.loads(key_file.read())['key']\n",
    "\n",
    "    api = Stats(api_key=key)\n",
    "    ether_last_price_json = api.get_ether_last_price()\n",
    "    ether_btc = ether_last_price_json['ethbtc']\n",
    "    ether_datetime = convertTimestampToDateTime(ether_last_price_json['ethbtc_timestamp'])\n",
    "    ether_usd_price = ether_last_price_json['ethusd']\n",
    "    #ether_usd_price_datetime = convertTimestampToDateTime(ether_last_price_json['ethusd_timestamp'])\n",
    "    total_ether_supply = api.get_total_ether_supply()\n",
    "    print(\"Time of price: \", ether_datetime, \" Ether_BTC price: \", ether_btc, \" Ether_USD price: \", ether_usd_price)\n",
    "    print(\"Total Ether supply available: \", total_ether_supply)\n",
    "\n",
    "def convertTimestampToDateTime(timestampValue):\n",
    "    timestampValue = int(timestampValue)\n",
    "    value = datetime.datetime.fromtimestamp(timestampValue)\n",
    "    exct_time = value.strftime('%d %B %Y %H:%M:%S')\n",
    "    return exct_time\n"
   ]
  }
 ],
 "metadata": {
  "kernelspec": {
   "display_name": "Python 3",
   "language": "python",
   "name": "python3"
  },
  "language_info": {
   "codemirror_mode": {
    "name": "ipython",
    "version": 3
   },
   "file_extension": ".py",
   "mimetype": "text/x-python",
   "name": "python",
   "nbconvert_exporter": "python",
   "pygments_lexer": "ipython3",
   "version": "3.10.2"
  },
  "orig_nbformat": 4,
  "vscode": {
   "interpreter": {
    "hash": "52984872766fabfa6322c34ae5cc2a5ac96aa0d05201d25acb1929140fce0c64"
   }
  }
 },
 "nbformat": 4,
 "nbformat_minor": 2
}
